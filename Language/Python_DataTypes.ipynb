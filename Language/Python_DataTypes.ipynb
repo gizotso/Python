{
 "cells": [
  {
   "cell_type": "markdown",
   "metadata": {},
   "source": [
    "# Python Data Types\n",
    "\n",
    "dynamically typed\n",
    "- Variables come into existence when first assigned to \n",
    "- variable can refer to an object of any type\n",
    "- All types are (almost) treated the same way\n",
    "- Main drawback: type errors are only caught at runtime"
   ]
  },
  {
   "cell_type": "code",
   "execution_count": null,
   "metadata": {
    "collapsed": true
   },
   "outputs": [],
   "source": [
    "Integers: 2323, 3234L\n",
    "Floating Point: 32.3, 3.1E2\n",
    "Complex: 3 + 2j, 1j\n",
    "\n",
    "1/3 = 0 # python 2.x\n",
    "1/3 = 0.33333333 # python 3.x  (or 1./3 force float !)\n",
    "\n",
    "Sequence types : tuples (...), lists [...] and strings\n",
    "MemoryError collection type Dictionaries"
   ]
  },
  {
   "cell_type": "markdown",
   "metadata": {},
   "source": [
    "## Booleans"
   ]
  },
  {
   "cell_type": "code",
   "execution_count": null,
   "metadata": {
    "collapsed": true
   },
   "outputs": [],
   "source": [
    "# True and False are constants in Python\n",
    "# Other values equivalent to True and False\n",
    "#    -False: False, zero (0, 0.0, 0j), None, empty container or object (\"\", [], {}, (), ...)\n",
    "#    -True: True, non-zero numbers, non-empty objects\n",
    "\n",
    "#Essentially,anything that was a 0 value (the integer or floating point 0, an empty string \"\", or an empty list []) was False, and everything else was true.\n",
    "bool(\"a\") ## True\n",
    "bool(1)  ##True  bool(-1)\n",
    "bool(0)  ##False\n",
    "bool([]) ##False"
   ]
  },
  {
   "cell_type": "markdown",
   "metadata": {},
   "source": [
    "## Comparisons\n",
    "* x == y  x and y have same value\n",
    "* x is y  x and y are 2 variables that refer to the identical same object.\n"
   ]
  },
  {
   "cell_type": "code",
   "execution_count": null,
   "metadata": {
    "collapsed": true
   },
   "outputs": [],
   "source": [
    "# comparison\n",
    "3 < 4   #>>> True\n",
    "1 == 2  #>>> False\n",
    "1 is 2  #>>> False\n",
    "1 is 1  #>>> True\n",
    "\n",
    "'a' < 'b'  #>>> True\n",
    "'A' < 'a'  #>>> True\n",
    "\n",
    "1<2<3  #>>> True\n",
    "1<2<1  #>>> False\n",
    "\n",
    "[1,2,3] == [1,2,4] #>>> False\n",
    "\n",
    "# multiple comparison\n",
    "hours = 5\n",
    "0 < hours < 24  #>>> True"
   ]
  }
 ],
 "metadata": {
  "kernelspec": {
   "display_name": "Python 3",
   "language": "python",
   "name": "python3"
  },
  "language_info": {
   "codemirror_mode": {
    "name": "ipython",
    "version": 3
   },
   "file_extension": ".py",
   "mimetype": "text/x-python",
   "name": "python",
   "nbconvert_exporter": "python",
   "pygments_lexer": "ipython3",
   "version": "3.5.3"
  }
 },
 "nbformat": 4,
 "nbformat_minor": 2
}
