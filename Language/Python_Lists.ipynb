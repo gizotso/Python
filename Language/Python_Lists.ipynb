{
 "cells": [
  {
   "cell_type": "markdown",
   "metadata": {},
   "source": [
    "# Lists\n",
    " - compound data type\n",
    " - sequences of arbitrary values !\n",
    " - Mutable, meaning they can be changed. Strings can not be changed\n",
    " - index starts @0"
   ]
  },
  {
   "cell_type": "code",
   "execution_count": 11,
   "metadata": {
    "collapsed": false
   },
   "outputs": [
    {
     "name": "stdout",
     "output_type": "stream",
     "text": [
      "a= [1, 2, 'blue']\n",
      "a[0]= 1\n",
      "a[-1]= blue\n",
      "len= 3\n"
     ]
    }
   ],
   "source": [
    "# compound data type\n",
    "a = [1, 2, 'blue']\n",
    "print(\"a=\", a)\n",
    "print(\"a[0]=\", a[0])  # !! index starts at 0\n",
    "print(\"a[-1]=\", a[-1])  # 'blue'  Negative index go backwards from the last element\n",
    "print(\"len=\", len(a)) # number of elts\n",
    "\n",
    "a = [1, 2, 3, 4, 5]\n",
    "a = [1, 2] + [3, 4, 5] ## [1, 2, 3, 4, 5]\n",
    "a = [1, 2] * 5 ## [1, 2, 1, 2, 1, 2, 1, 2, 1, 2]"
   ]
  },
  {
   "cell_type": "code",
   "execution_count": 14,
   "metadata": {
    "collapsed": false
   },
   "outputs": [
    {
     "data": {
      "text/plain": [
       "'wall'"
      ]
     },
     "execution_count": 14,
     "metadata": {},
     "output_type": "execute_result"
    }
   ],
   "source": [
    "a = [99, \"bottles of beer\", [\"on\", \"the\", \"wall\"]]\n",
    "a[2][2] #> 'wall'"
   ]
  },
  {
   "cell_type": "code",
   "execution_count": 16,
   "metadata": {
    "collapsed": false
   },
   "outputs": [
    {
     "name": "stdout",
     "output_type": "stream",
     "text": [
      "[1, 2, 'i', 3, 4, 5, 6, 7, 8]\n"
     ]
    }
   ],
   "source": [
    "#add an elt\n",
    "a.append(6) #a = [1, 2, 3, 4, 5, 6]\n",
    "a = a + [6] #a = [1, 2, 3, 4, 5, 6]   + creates a fresh list with a new memory ref\n",
    "a = [1, 2, 3, 4, 5]\n",
    "a.insert(2,'i') #a = [1, 2, 'i', 3, 4, 5]  added elet before the third item\n",
    "a.extend([6,7,8]) #a=[1, 2, 3, 4, 5, 6, 7, 8]  extend operates on list a in place\n",
    "print(a)"
   ]
  },
  {
   "cell_type": "code",
   "execution_count": null,
   "metadata": {
    "collapsed": true
   },
   "outputs": [],
   "source": [
    "#Item and slice assignment\n",
    "a[0] = 98\n",
    "a[1:2] = [\"bottles\", \"of\", \"beer\"] #a = [98, \"bottles\", \"of\", \"beer\", [\"on\", \"the\", \"wall\"]]\n",
    "\n",
    "#remove last elet\n",
    "del a[-1]\t#[98, \"bottles\", \"of\", \"beer\"]\n",
    "\n",
    "# remove an elt\n",
    "a = [1, 2, 3, 4, 5]\n",
    "del a[2] #[1, 2, 4, 5]"
   ]
  },
  {
   "cell_type": "code",
   "execution_count": null,
   "metadata": {
    "collapsed": true
   },
   "outputs": [],
   "source": [
    "\n",
    "a.append(5)\t\t# [0,1,2,3,4,5]\n",
    "#remove elet (last by default)\n",
    "a.pop()\t\t\t# [0,1,2,3,4]\n",
    "5\n",
    "a.insert(0, 5.5)\t\t# [5.5,0,1,2,3,4]\n",
    "a.pop(0)\t\t\t# [0,1,2,3,4]\n",
    "5.5\n",
    "a.reverse()\t\t\t# [4,3,2,1,0]\n",
    "a.sort()\t\t\t# [0,1,2,3,4]"
   ]
  },
  {
   "cell_type": "markdown",
   "metadata": {},
   "source": [
    "## Ranges"
   ]
  },
  {
   "cell_type": "code",
   "execution_count": 18,
   "metadata": {
    "collapsed": false
   },
   "outputs": [
    {
     "name": "stdout",
     "output_type": "stream",
     "text": [
      "[0, 1, 2, 3, 4]\n"
     ]
    }
   ],
   "source": [
    "#range() built-in that generates sequences of numbers starting with 0\n",
    "# -> use list(range()) to turn sequence into an explicit list\n",
    "\n",
    "range(5,10)     # [5,6,7,8,9]\n",
    "range(0, 10, 2) #  [0,2,4,6,8]\n",
    "a = range(5)    # [0,1,2,3,4]\n",
    "\n",
    "print(list(a))"
   ]
  },
  {
   "cell_type": "code",
   "execution_count": 20,
   "metadata": {
    "collapsed": false
   },
   "outputs": [
    {
     "name": "stdout",
     "output_type": "stream",
     "text": [
      "evens:  range(2, 20, 2)\n",
      "evens:  [2, 4, 6, 8, 10, 12, 14, 16, 18]\n"
     ]
    }
   ],
   "source": [
    "numbers = range(0,20)\n",
    "evens = numbers[2::2] #slice starts at2, by step of 2\n",
    "print(\"evens: \", evens)\n",
    "print(\"evens: \", list(evens))"
   ]
  },
  {
   "cell_type": "code",
   "execution_count": null,
   "metadata": {
    "collapsed": true
   },
   "outputs": [],
   "source": []
  },
  {
   "cell_type": "code",
   "execution_count": 5,
   "metadata": {
    "collapsed": false
   },
   "outputs": [
    {
     "name": "stdout",
     "output_type": "stream",
     "text": [
      "[1, 2, 'r', 'e', 'd']\n"
     ]
    }
   ],
   "source": [
    " a = [1, \"blue\"]\n",
    " a[1] = 2 #>[1, 2]\n",
    "\n",
    " a.extend(\"red\") ## [1, 2, 'blue', 'r', 'e', 'd']\n",
    "print(a)"
   ]
  },
  {
   "cell_type": "code",
   "execution_count": 4,
   "metadata": {
    "collapsed": false
   },
   "outputs": [
    {
     "name": "stdout",
     "output_type": "stream",
     "text": [
      "Aug\n"
     ]
    }
   ],
   "source": [
    "months = [\"Jan\", \"Feb\", \"Mar\", \"Apr\", \"May\", \"Jun\", \"Jul\", \"Aug\", \"Sep\", \"Oct\", \"Nov\", \"Dec\"]\n",
    "print(months[8-1])\n",
    "# lists are mutable\n",
    "months[0] = \"January\""
   ]
  },
  {
   "cell_type": "code",
   "execution_count": 1,
   "metadata": {
    "collapsed": false
   },
   "outputs": [
    {
     "data": {
      "text/plain": [
       "'Tuesday'"
      ]
     },
     "execution_count": 1,
     "metadata": {},
     "output_type": "execute_result"
    }
   ],
   "source": [
    "days_of_the_week = [\"Sunday\",\"Monday\",\"Tuesday\",\"Wednesday\",\"Thursday\",\"Friday\",\"Saturday\"]\n",
    "days_of_the_week[2] ##'Tuesday'"
   ]
  },
  {
   "cell_type": "markdown",
   "metadata": {},
   "source": [
    "## Operations"
   ]
  },
  {
   "cell_type": "code",
   "execution_count": null,
   "metadata": {
    "collapsed": true
   },
   "outputs": [],
   "source": [
    "# - <list>.append(x), <list>.insert(i,x), <list>.index(x), <list>.count(), <list>.sort(), <list>.reverse(), <list>.remove(), <list>.pop(i), <list>.extend(x)\n",
    "# - Indexing L[i], Slicing\tL[1:5], Concatenation L + L\n",
    "# - Repetition L * 5,\n",
    "# - Membership test 'a' in L\n",
    "Length len(L)\n",
    "\n",
    "li = ['a', 'b', 'c', 'b']\n",
    "li.index('c') #>>>2\n",
    "li.count('b')\n",
    "li.remove('b') #remove 1st occurence\n"
   ]
  },
  {
   "cell_type": "code",
   "execution_count": null,
   "metadata": {
    "collapsed": true
   },
   "outputs": [],
   "source": [
    "# nested list\n",
    "s = [1,2,3]\n",
    "t = ['begin', s, 'end']\n",
    "t #>>> ['begin', [1, 2, 3], 'end']\n",
    "t[1][1] #>>> 2"
   ]
  }
 ],
 "metadata": {
  "kernelspec": {
   "display_name": "Python 3",
   "language": "python",
   "name": "python3"
  },
  "language_info": {
   "codemirror_mode": {
    "name": "ipython",
    "version": 3
   },
   "file_extension": ".py",
   "mimetype": "text/x-python",
   "name": "python",
   "nbconvert_exporter": "python",
   "pygments_lexer": "ipython3",
   "version": "3.5.3"
  }
 },
 "nbformat": 4,
 "nbformat_minor": 2
}
