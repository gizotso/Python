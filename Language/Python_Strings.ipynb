{
 "cells": [
  {
   "cell_type": "markdown",
   "metadata": {},
   "source": [
    "# Python Strings"
   ]
  },
  {
   "cell_type": "code",
   "execution_count": 14,
   "metadata": {
    "collapsed": false
   },
   "outputs": [
    {
     "name": "stdout",
     "output_type": "stream",
     "text": [
      "tom's cat\n",
      "type(s)=  <class 'str'>\n",
      "this is a long\n",
      "test\n",
      "so i use triple quotes\n",
      "42\n",
      "Have \n",
      " a good day\n"
     ]
    }
   ],
   "source": [
    "s=\"tom's cat\"\n",
    "print(s)\n",
    "print(\"type(s)= \", type(s)) ##<type 'str'>\n",
    "x='tom\\'s cat' #idem\n",
    "\n",
    "#Use triple double-quotes for multi-line strings or strings than contain both ' and \" inside of them:\n",
    "s=\"\"\"a ' \"b c\"\"\"\n",
    "#Line continuation: triple quotes\n",
    "str=\"\"\"this is a long\n",
    "test\n",
    "so i use triple quotes\"\"\"\n",
    "print(str)\n",
    "print(len(str)) #42\n",
    "# <=> print(\"this is a long\\ntest\\nso i use triple quotes\")\n",
    "\n",
    "#New line : \\n\n",
    "str = \"Have \\n a good day\"\n",
    "print(str)"
   ]
  },
  {
   "cell_type": "markdown",
   "metadata": {},
   "source": [
    "## Strings are immutable"
   ]
  },
  {
   "cell_type": "code",
   "execution_count": 17,
   "metadata": {
    "collapsed": false
   },
   "outputs": [
    {
     "ename": "TypeError",
     "evalue": "'str' object does not support item assignment",
     "output_type": "error",
     "traceback": [
      "\u001b[0;31m---------------------------------------------------------------------------\u001b[0m",
      "\u001b[0;31mTypeError\u001b[0m                                 Traceback (most recent call last)",
      "\u001b[0;32m<ipython-input-17-d3dd7d4935e3>\u001b[0m in \u001b[0;36m<module>\u001b[0;34m()\u001b[0m\n\u001b[1;32m      2\u001b[0m \u001b[0mx\u001b[0m \u001b[1;33m=\u001b[0m \u001b[1;34m'abc'\u001b[0m\u001b[1;33m\u001b[0m\u001b[0m\n\u001b[1;32m      3\u001b[0m \u001b[0mx\u001b[0m\u001b[1;33m[\u001b[0m\u001b[1;36m1\u001b[0m\u001b[1;33m]\u001b[0m \u001b[1;31m## 'b'\u001b[0m\u001b[1;33m\u001b[0m\u001b[0m\n\u001b[0;32m----> 4\u001b[0;31m \u001b[0mx\u001b[0m\u001b[1;33m[\u001b[0m\u001b[1;36m1\u001b[0m\u001b[1;33m]\u001b[0m\u001b[1;33m=\u001b[0m\u001b[1;34m'g'\u001b[0m\u001b[1;33m\u001b[0m\u001b[0m\n\u001b[0m",
      "\u001b[0;31mTypeError\u001b[0m: 'str' object does not support item assignment"
     ]
    }
   ],
   "source": [
    "# Warning\n",
    "x = 'abc'\n",
    "x[1] ## 'b'\n",
    "x[1]='g's = \"andrew\"\n",
    "#s[0]='b' ## TypeError: 'str' object does not support item assignment\n",
    "s = \"A\" + s[1:] ## 'Andrew'\n",
    "print(s)\n",
    "# warning : strings are \"Read-Only\"\n",
    "#s = \"andrew\""
   ]
  },
  {
   "cell_type": "code",
   "execution_count": 22,
   "metadata": {
    "collapsed": false
   },
   "outputs": [
    {
     "name": "stdout",
     "output_type": "stream",
     "text": [
      "Andrew\n"
     ]
    }
   ],
   "source": [
    "s = \"andrew\"\n",
    "# s[0]='b' ## Forbidden > TypeError: 'str' object does not support item assignment\n",
    "# Instead \n",
    "s = \"A\" + s[1:] ## 'Andrew'\n",
    "print(s)"
   ]
  },
  {
   "cell_type": "markdown",
   "metadata": {},
   "source": [
    "## Concatenations"
   ]
  },
  {
   "cell_type": "code",
   "execution_count": 1,
   "metadata": {
    "collapsed": false
   },
   "outputs": [
    {
     "data": {
      "text/plain": [
       "'helloworld'"
      ]
     },
     "execution_count": 1,
     "metadata": {},
     "output_type": "execute_result"
    }
   ],
   "source": [
    "# Concatenation\n",
    "\"hello\" + \"world\"\t#'helloworld'"
   ]
  },
  {
   "cell_type": "code",
   "execution_count": 3,
   "metadata": {
    "collapsed": false
   },
   "outputs": [
    {
     "data": {
      "text/plain": [
       "'spamspamspameggseggseggseggseggs'"
      ]
     },
     "execution_count": 3,
     "metadata": {},
     "output_type": "execute_result"
    }
   ],
   "source": [
    "# Repetition\n",
    "\"hello\"*3                   # \"hellohellohello\"\n",
    "(3 * \"spam\") + (\"eggs\" * 5) # 'spamspamspameggseggseggseggseggs'"
   ]
  },
  {
   "cell_type": "markdown",
   "metadata": {},
   "source": [
    "## indexing & slicing"
   ]
  },
  {
   "cell_type": "code",
   "execution_count": null,
   "metadata": {
    "collapsed": true
   },
   "outputs": [],
   "source": [
    "# Size\n",
    "len(\"hello\")\t\t#5\n",
    "\n",
    "# indexing & slicing\n",
    "\"hello\"[0]\t\t#\"h\"\n",
    "\"hello\"[-1]\t\t#\"o\"\t\t# (from end)\n",
    "\"hello\"[1:4]\t#\"ell\"\t\t# slicing <string>[<start>:<end>] but\n",
    "                            # end position is not included !\n",
    "\"hello\"[1:]\t\t#\"ello\"\n",
    "\"hello\"[:3]     #\"hel\"\n",
    "\"hello\"[:]\t\t#\"hello\"\n",
    "\"hello\"[1:-2]   #\"el\"  #idx=1 to idx=-2\n",
    "Bonjour[1:6:2]  #'oju'"
   ]
  },
  {
   "cell_type": "code",
   "execution_count": null,
   "metadata": {
    "collapsed": true
   },
   "outputs": [],
   "source": [
    "# Comparison\n",
    "\"hello\" < \"jello\"\t#True"
   ]
  },
  {
   "cell_type": "code",
   "execution_count": null,
   "metadata": {
    "collapsed": true
   },
   "outputs": [],
   "source": [
    "\"32,24,25,57\".split(\",\")\n",
    "#['32', '24', '25', '57']"
   ]
  },
  {
   "cell_type": "code",
   "execution_count": null,
   "metadata": {
    "collapsed": true
   },
   "outputs": [],
   "source": [
    "# Strings share many features with list\n",
    "smiles = \"C(=N)(N)N.C(=O)(O)O\"\n",
    "smiles[0]    #'C'\n",
    "smiles[1:3]  #'(='\n",
    "smiles.find(\"(O)\")\n",
    "smiles.find(\".\", 10) # starts the lookup at pos 10\n",
    "smiles.split(\".\")    # ['C(=N)(N)N', 'C(=O)(O)O']\n"
   ]
  },
  {
   "cell_type": "code",
   "execution_count": null,
   "metadata": {
    "collapsed": true
   },
   "outputs": [],
   "source": [
    "# string operator : IN, NOT IN\n",
    "# search\n",
    "\"e\" in \"hello\"\t\t#True\n",
    "\n",
    "if \"Br\" in \"Brother\":\n",
    "\tprint ...# strip, rstrip, lstrip are ways to remove whitespace or selected characters\n",
    "#  => uset it to strip off final newlines from lines read from files\n",
    "\n",
    "# lstrip : leading whitespace removed\n",
    "# rstrip :  trailing whitespace removed\n",
    "line = \" # This is a comment line \\n\"\n",
    "line.strip() ## '# This is a comment line'\n",
    "line.rstrip() ## ' # This is a comment line'\n",
    "line.rstrip(\"\\n\")\n",
    "\n",
    "email_address = \"clin\"\n",
    "if \"@\" not in email_address:\n",
    "\temail_address += \"@brandeis.edu\""
   ]
  },
  {
   "cell_type": "code",
   "execution_count": null,
   "metadata": {
    "collapsed": true
   },
   "outputs": [],
   "source": [
    "# Other functions\n",
    "email_address.startswith(\"c\")  ## True\n",
    "email_address.endsswith(\"c\")  ## False\n",
    "capitalize, lower, upper\n",
    "title\n",
    "center, ljust, rjust\n",
    "\"abca\".count(\"a\")      #2\n",
    "\"this,is,it\".find(\",\") #4 - rfind (returns the right most pos)\n",
    "\"Mr x, Mr toto\".replace(\"Mr\",\"Sir\") # 'Sir x, Sir toto'"
   ]
  },
  {
   "cell_type": "code",
   "execution_count": null,
   "metadata": {
    "collapsed": true
   },
   "outputs": [],
   "source": [
    "# substitution\n",
    "\"%s@brandeis.edu\" % \"clin\"  ##'clin@brandeis.edu'"
   ]
  },
  {
   "cell_type": "code",
   "execution_count": null,
   "metadata": {
    "collapsed": true
   },
   "outputs": [],
   "source": [
    "names = [\"Ben\", \"Chen\", \"Yaqin\"]\n",
    "\", \".join(names)   ##'Ben, Chen, Yaqin'\n",
    "\"x\".join(names)    ## 'BenxChenxYaqin'\n",
    "\n",
    "\"hello\".upper()    ## 'HELLO'"
   ]
  },
  {
   "cell_type": "code",
   "execution_count": null,
   "metadata": {
    "collapsed": true
   },
   "outputs": [],
   "source": [
    "#conversion\n",
    "str(8), str(3.14)\n",
    "\n",
    "'hello' + str(2) # str() func can convert an instance of any data type into a string\n",
    "\n",
    "# iteration through chars\n",
    "for ch in \"Hellow World!\":\n",
    "\tprint (ch, end=\"x\")"
   ]
  },
  {
   "cell_type": "code",
   "execution_count": null,
   "metadata": {
    "collapsed": true
   },
   "outputs": [],
   "source": [
    "ord(\"A\") #65 : ordinal of a 1 char string\n",
    "chr(65)  #'A'\n",
    "\n",
    "eval(\"8\")*2 # Evaluate string as an expression\n"
   ]
  }
 ],
 "metadata": {
  "kernelspec": {
   "display_name": "Python 3",
   "language": "python",
   "name": "python3"
  },
  "language_info": {
   "codemirror_mode": {
    "name": "ipython",
    "version": 3
   },
   "file_extension": ".py",
   "mimetype": "text/x-python",
   "name": "python",
   "nbconvert_exporter": "python",
   "pygments_lexer": "ipython3",
   "version": "3.5.3"
  }
 },
 "nbformat": 4,
 "nbformat_minor": 2
}
