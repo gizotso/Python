{
 "cells": [
  {
   "cell_type": "markdown",
   "metadata": {},
   "source": [
    "# Boxplot in Python"
   ]
  },
  {
   "cell_type": "markdown",
   "metadata": {},
   "source": [
    "## matplotlib Boxplot\n",
    "https://matplotlib.org/stable/api/_as_gen/matplotlib.pyplot.boxplot.html\n",
    "https://matplotlib.org/stable/gallery/statistics/boxplot_demo.html#sphx-glr-gallery-statistics-boxplot-demo-py"
   ]
  },
  {
   "cell_type": "code",
   "execution_count": 24,
   "metadata": {},
   "outputs": [
    {
     "name": "stdout",
     "output_type": "stream",
     "text": [
      "Dataframe shape: (150, 5)  -> size: 750\n",
      "<class 'pandas.core.frame.DataFrame'>\n",
      "RangeIndex: 150 entries, 0 to 149\n",
      "Columns: 5 entries, sepal_length to target\n",
      "dtypes: float64(4), int32(1)\n",
      "memory usage: 5.4 KB\n",
      "None\n"
     ]
    },
    {
     "data": {
      "text/html": [
       "<div>\n",
       "<style scoped>\n",
       "    .dataframe tbody tr th:only-of-type {\n",
       "        vertical-align: middle;\n",
       "    }\n",
       "\n",
       "    .dataframe tbody tr th {\n",
       "        vertical-align: top;\n",
       "    }\n",
       "\n",
       "    .dataframe thead th {\n",
       "        text-align: right;\n",
       "    }\n",
       "</style>\n",
       "<table border=\"1\" class=\"dataframe\">\n",
       "  <thead>\n",
       "    <tr style=\"text-align: right;\">\n",
       "      <th></th>\n",
       "      <th>sepal_length</th>\n",
       "      <th>sepal_width</th>\n",
       "      <th>petal_length</th>\n",
       "      <th>petal_width</th>\n",
       "      <th>target</th>\n",
       "    </tr>\n",
       "  </thead>\n",
       "  <tbody>\n",
       "    <tr>\n",
       "      <th>0</th>\n",
       "      <td>5.1</td>\n",
       "      <td>3.5</td>\n",
       "      <td>1.4</td>\n",
       "      <td>0.2</td>\n",
       "      <td>0</td>\n",
       "    </tr>\n",
       "    <tr>\n",
       "      <th>1</th>\n",
       "      <td>4.9</td>\n",
       "      <td>3.0</td>\n",
       "      <td>1.4</td>\n",
       "      <td>0.2</td>\n",
       "      <td>0</td>\n",
       "    </tr>\n",
       "    <tr>\n",
       "      <th>2</th>\n",
       "      <td>4.7</td>\n",
       "      <td>3.2</td>\n",
       "      <td>1.3</td>\n",
       "      <td>0.2</td>\n",
       "      <td>0</td>\n",
       "    </tr>\n",
       "    <tr>\n",
       "      <th>3</th>\n",
       "      <td>4.6</td>\n",
       "      <td>3.1</td>\n",
       "      <td>1.5</td>\n",
       "      <td>0.2</td>\n",
       "      <td>0</td>\n",
       "    </tr>\n",
       "    <tr>\n",
       "      <th>4</th>\n",
       "      <td>5.0</td>\n",
       "      <td>3.6</td>\n",
       "      <td>1.4</td>\n",
       "      <td>0.2</td>\n",
       "      <td>0</td>\n",
       "    </tr>\n",
       "  </tbody>\n",
       "</table>\n",
       "</div>"
      ],
      "text/plain": [
       "   sepal_length  sepal_width  petal_length  petal_width  target\n",
       "0           5.1          3.5           1.4          0.2       0\n",
       "1           4.9          3.0           1.4          0.2       0\n",
       "2           4.7          3.2           1.3          0.2       0\n",
       "3           4.6          3.1           1.5          0.2       0\n",
       "4           5.0          3.6           1.4          0.2       0"
      ]
     },
     "execution_count": 24,
     "metadata": {},
     "output_type": "execute_result"
    }
   ],
   "source": [
    "import matplotlib.pyplot as plt\n",
    "import pandas as pd\n",
    "from sklearn import datasets\n",
    "\n",
    "# import some data to play with\n",
    "iris = datasets.load_iris()\n",
    "# df = pd.DataFrame(data = iris.data, columns = iris.feature_names)\n",
    "df = pd.DataFrame(data=iris.data, columns=[\"sepal_length\", \"sepal_width\", \"petal_length\", \"petal_width\"])\n",
    "df[\"target\"] = iris.target\n",
    "print(\"Dataframe shape:\", df.shape, \" -> size:\", df.size)\n",
    "print(df.info(verbose = False))\n",
    "df.head()"
   ]
  },
  {
   "cell_type": "code",
   "execution_count": 80,
   "metadata": {},
   "outputs": [
    {
     "data": {
      "image/png": "[encoded data removed]",
      "text/plain": [
       "<Figure size 432x288 with 1 Axes>"
      ]
     },
     "metadata": {
      "needs_background": "light"
     },
     "output_type": "display_data"
    }
   ],
   "source": [
    "# Basic Boxplot call with some options\n",
    "\n",
    "# fig = plt.boxplot()\n",
    "plt.boxplot( df.sepal_width, notch=True, sym=\"o\" )\n",
    "plt.show()\n",
    "\n",
    "# other options : labels=[\"Set 1\", \"Set 2\"], widths = 0.15"
   ]
  },
  {
   "cell_type": "code",
   "execution_count": 81,
   "metadata": {},
   "outputs": [
    {
     "data": {
      "image/png": "[encoded data removed]",
      "text/plain": [
       "<Figure size 432x288 with 1 Axes>"
      ]
     },
     "metadata": {
      "needs_background": "light"
     },
     "output_type": "display_data"
    }
   ],
   "source": [
    "# Using plt.subplots to plot one or several figures in the same window\n",
    "fig1, ax1 = plt.subplots(figsize=(6,4)) # Creates a figure and a set of subplots (recommended for generating multiple subplots in grids)\n",
    "ax1.set_title('Basic BoxPlot')\n",
    "ax1.set_xlabel('Sepal Width')\n",
    "ax1.set_ylabel('mm')\n",
    "ax1.boxplot(df.sepal_width)\n",
    "plt.show()"
   ]
  },
  {
   "cell_type": "code",
   "execution_count": 86,
   "metadata": {},
   "outputs": [
    {
     "data": {
      "image/png": "[encoded data removed]",
      "text/plain": [
       "<Figure size 432x288 with 2 Axes>"
      ]
     },
     "metadata": {
      "needs_background": "light"
     },
     "output_type": "display_data"
    }
   ],
   "source": [
    "fig1, (ax1, ax2) = plt.subplots(1, 2, figsize=(6,4)) # Creates a figure and a set of subplots (recommended for generating multiple subplots in grids)\n",
    "ax1.set_title('sepal_width')\n",
    "ax2.set_title('sepal_length')\n",
    "\n",
    "ax1.boxplot(df.sepal_width)\n",
    "ax2.boxplot(df.sepal_length)\n",
    "\n",
    "plt.show()"
   ]
  },
  {
   "cell_type": "code",
   "execution_count": 101,
   "metadata": {},
   "outputs": [
    {
     "name": "stderr",
     "output_type": "stream",
     "text": [
      "C:\\Users\\urrutiaa\\AppData\\Local\\Temp\\FreeCommanderPortableTemp\\ipykernel_484\\377392266.py:7: UserWarning: Matplotlib is currently using module://matplotlib_inline.backend_inline, which is a non-GUI backend, so cannot show the figure.\n",
      "  fig.show()\n"
     ]
    },
    {
     "data": {
      "image/png": "[encoded data removed]",
      "text/plain": [
       "<Figure size 600x400 with 1 Axes>"
      ]
     },
     "metadata": {},
     "output_type": "display_data"
    }
   ],
   "source": [
    "# Using plt.figure\n",
    "plt.style.use('seaborn-darkgrid')\n",
    "fig1 = plt.figure(\"fig1 - plt.figure\", figsize=(6,4)) # creates a new figure but wo axes (axes can be added)\n",
    "# fig1 = plt.figure(figsize=(6,4))\n",
    "plt.title('Basic BoxPlot') #set a title for the axes\n",
    "_ = plt.boxplot(df.sepal_width)\n",
    "fig.show()\n",
    "plt.style.use('default')"
   ]
  },
  {
   "cell_type": "markdown",
   "metadata": {},
   "source": [
    "matplotlib.pyplot.subplots method provides a way to plot multiple plots on a single figure. Given the number of rows and columns, it returns a tuple (fig, ax), giving a single figure fig with an array of axes ax"
   ]
  },
  {
   "cell_type": "markdown",
   "metadata": {},
   "source": [
    "## panda Boxplot\n",
    "https://pandas.pydata.org/docs/reference/api/pandas.DataFrame.boxplot.html"
   ]
  },
  {
   "cell_type": "code",
   "execution_count": 38,
   "metadata": {},
   "outputs": [
    {
     "data": {
      "image/png": "[encoded data removed]",
      "text/plain": [
       "<Figure size 432x288 with 1 Axes>"
      ]
     },
     "metadata": {
      "needs_background": "light"
     },
     "output_type": "display_data"
    }
   ],
   "source": [
    "\n",
    "_ = df.boxplot(column=[\"sepal_length\", \"sepal_width\", \"petal_length\", \"petal_width\"])  "
   ]
  },
  {
   "cell_type": "markdown",
   "metadata": {},
   "source": [
    "## Scaterred Boxplot\n",
    "https://towardsdatascience.com/scattered-boxplots-graphing-experimental-results-with-matplotlib-seaborn-and-pandas-81f9fa8a1801"
   ]
  },
  {
   "cell_type": "code",
   "execution_count": 3,
   "metadata": {},
   "outputs": [
    {
     "data": {
      "text/html": [
       "<div>\n",
       "<style scoped>\n",
       "    .dataframe tbody tr th:only-of-type {\n",
       "        vertical-align: middle;\n",
       "    }\n",
       "\n",
       "    .dataframe tbody tr th {\n",
       "        vertical-align: top;\n",
       "    }\n",
       "\n",
       "    .dataframe thead th {\n",
       "        text-align: right;\n",
       "    }\n",
       "</style>\n",
       "<table border=\"1\" class=\"dataframe\">\n",
       "  <thead>\n",
       "    <tr style=\"text-align: right;\">\n",
       "      <th></th>\n",
       "      <th>Experiment 1</th>\n",
       "      <th>Experiment 2</th>\n",
       "      <th>Experiment 3</th>\n",
       "      <th>Experiment 4</th>\n",
       "    </tr>\n",
       "  </thead>\n",
       "  <tbody>\n",
       "    <tr>\n",
       "      <th>0</th>\n",
       "      <td>82.403899</td>\n",
       "      <td>92.359202</td>\n",
       "      <td>80.006949</td>\n",
       "      <td>84.107002</td>\n",
       "    </tr>\n",
       "    <tr>\n",
       "      <th>1</th>\n",
       "      <td>82.346946</td>\n",
       "      <td>72.908323</td>\n",
       "      <td>68.753805</td>\n",
       "      <td>78.636323</td>\n",
       "    </tr>\n",
       "    <tr>\n",
       "      <th>2</th>\n",
       "      <td>65.530518</td>\n",
       "      <td>71.170009</td>\n",
       "      <td>86.717650</td>\n",
       "      <td>90.371155</td>\n",
       "    </tr>\n",
       "    <tr>\n",
       "      <th>3</th>\n",
       "      <td>66.493585</td>\n",
       "      <td>90.526126</td>\n",
       "      <td>75.329955</td>\n",
       "      <td>82.291303</td>\n",
       "    </tr>\n",
       "    <tr>\n",
       "      <th>4</th>\n",
       "      <td>81.862118</td>\n",
       "      <td>82.734764</td>\n",
       "      <td>94.254193</td>\n",
       "      <td>86.299260</td>\n",
       "    </tr>\n",
       "  </tbody>\n",
       "</table>\n",
       "</div>"
      ],
      "text/plain": [
       "   Experiment 1  Experiment 2  Experiment 3  Experiment 4\n",
       "0     82.403899     92.359202     80.006949     84.107002\n",
       "1     82.346946     72.908323     68.753805     78.636323\n",
       "2     65.530518     71.170009     86.717650     90.371155\n",
       "3     66.493585     90.526126     75.329955     82.291303\n",
       "4     81.862118     82.734764     94.254193     86.299260"
      ]
     },
     "execution_count": 3,
     "metadata": {},
     "output_type": "execute_result"
    }
   ],
   "source": [
    "import numpy as np\n",
    "import pandas as pd\n",
    "import matplotlib.pyplot as plt\n",
    "import seaborn as sns\n",
    "dataset = np.random.default_rng().uniform(60,95,(20,4))\n",
    "df = pd.DataFrame(dataset, columns=['data1','data2','data3','data4'])\n",
    "#df.head()\n",
    "for n in range(1,df.columns.shape[0]+1):\n",
    "    df.rename(columns={f\"data{n}\": f\"Experiment {n}\"}, inplace=True)\n",
    "df.head()"
   ]
  },
  {
   "cell_type": "code",
   "execution_count": 12,
   "metadata": {},
   "outputs": [
    {
     "data": {
      "text/plain": [
       "['Experiment 1', 'Experiment 2', 'Experiment 3', 'Experiment 4']"
      ]
     },
     "execution_count": 12,
     "metadata": {},
     "output_type": "execute_result"
    }
   ],
   "source": [
    "# vals : all values\n",
    "# xs : jittered\n",
    "vals, names, xs = [],[],[]\n",
    "for i, col in enumerate(df.columns):\n",
    "    vals.append(df[col].values)\n",
    "    names.append(col)\n",
    "    xs.append(np.random.normal(i + 1, 0.04, df[col].values.shape[0]))  # adds jitter to the data points - can be adjusted\n",
    "\n",
    "names"
   ]
  },
  {
   "cell_type": "code",
   "execution_count": 13,
   "metadata": {},
   "outputs": [
    {
     "data": {
      "image/png": "[encoded data removed]",
      "text/plain": [
       "<Figure size 432x288 with 1 Axes>"
      ]
     },
     "metadata": {
      "needs_background": "light"
     },
     "output_type": "display_data"
    }
   ],
   "source": [
    "plt.boxplot(vals, labels=names)\n",
    "palette = ['r', 'g', 'b', 'y']\n",
    "for x, val, c in zip(xs, vals, palette):\n",
    "    plt.scatter(x, val, alpha=0.4, color=c)\n",
    "plt.show()"
   ]
  },
  {
   "cell_type": "code",
   "execution_count": 37,
   "metadata": {},
   "outputs": [
    {
     "data": {
      "image/png": "[encoded data removed]",
      "text/plain": [
       "<Figure size 432x288 with 1 Axes>"
      ]
     },
     "metadata": {
      "needs_background": "light"
     },
     "output_type": "display_data"
    }
   ],
   "source": [
    "import seaborn as sns\n",
    "import numpy as np\n",
    "tips = sns.load_dataset('tips')\n",
    "\n",
    "axes = tips.boxplot(column=\"tip\", by=\"day\")\n",
    "axes.set_title(\"DOW vs Data\")\n",
    "axes.set_xlabel(\"DOW\")\n",
    "axes.set_ylabel(\"Data\")\n",
    "\n",
    "for i,day in enumerate([\"Thur\", \"Fri\", \"Sat\", \"Sun\"]):\n",
    "    y = tips.loc[tips[\"day\"] == day, \"tip\"]\n",
    "    x = np.repeat(i+1, len(y))  # adjust the x data so that Thur will correspond to coordinate 1, Fri to 2, etc\n",
    "    axes.scatter(x, y, color='r', alpha=0.3)"
   ]
  }
 ],
 "metadata": {
  "kernelspec": {
   "display_name": "Python 3.9.12 ('py39')",
   "language": "python",
   "name": "python3"
  },
  "language_info": {
   "codemirror_mode": {
    "name": "ipython",
    "version": 3
   },
   "file_extension": ".py",
   "mimetype": "text/x-python",
   "name": "python",
   "nbconvert_exporter": "python",
   "pygments_lexer": "ipython3",
   "version": "3.9.12"
  },
  "orig_nbformat": 4,
  "vscode": {
   "interpreter": {
    "hash": "0826e7e1226af238280d069216df311733339382de8f9d51c62afa073bc161f8"
   }
  }
 },
 "nbformat": 4,
 "nbformat_minor": 2
}
